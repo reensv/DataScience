{
 "cells": [
  {
   "cell_type": "code",
   "execution_count": 27,
   "id": "60e7ed1b",
   "metadata": {},
   "outputs": [
    {
     "name": "stdout",
     "output_type": "stream",
     "text": [
      "[[1 0 1 0 1 0 1 0]\n",
      " [0 1 0 1 0 1 0 1]\n",
      " [1 0 1 0 1 0 1 0]\n",
      " [0 1 0 1 0 1 0 1]\n",
      " [1 0 1 0 1 0 1 0]\n",
      " [0 1 0 1 0 1 0 1]\n",
      " [1 0 1 0 1 0 1 0]\n",
      " [0 1 0 1 0 1 0 1]]\n"
     ]
    }
   ],
   "source": [
    "#Task condition 1.3.1\n",
    "#Создать 8x8 матрицу и заполнить её в шахматном порядке нулями и единицами.\n",
    "\n",
    "#solution\n",
    "import numpy as np\n",
    "a = np.zeros((8, 8), 'int')\n",
    "for i in range(0, 8):\n",
    "    for j in range(0, 8):\n",
    "        if i % 2 == 0 and j % 2 == 0: a[i][j] = 1\n",
    "        elif i % 2 == 1 and j % 2 == 1: a[i][j] = 1\n",
    "print(a)"
   ]
  },
  {
   "cell_type": "code",
   "execution_count": 28,
   "id": "46e4ebe4",
   "metadata": {},
   "outputs": [
    {
     "name": "stdout",
     "output_type": "stream",
     "text": [
      "[[0 1 2 3 4]\n",
      " [0 1 2 3 4]\n",
      " [0 1 2 3 4]\n",
      " [0 1 2 3 4]\n",
      " [0 1 2 3 4]]\n"
     ]
    }
   ],
   "source": [
    "#Task condition 1.3.2\n",
    "#Создать 5x5 матрицу со значениями в строках от 0 до 4. Для создания необходимо использовать функцию arange.\n",
    "\n",
    "#solution\n",
    "import numpy as np\n",
    "a = np.zeros((5, 5), 'int')\n",
    "for i in range (len(a)): a[i] = np.arange(5)\n",
    "print(a)"
   ]
  },
  {
   "cell_type": "code",
   "execution_count": 30,
   "id": "a3a8ea46",
   "metadata": {},
   "outputs": [
    {
     "name": "stdout",
     "output_type": "stream",
     "text": [
      "[[[0.18987442 0.72778883 0.73895199]\n",
      "  [0.17733312 0.0060583  0.90777067]\n",
      "  [0.80316698 0.85199653 0.52909727]]\n",
      "\n",
      " [[0.44284681 0.52943288 0.65532028]\n",
      "  [0.39357884 0.02523806 0.6453388 ]\n",
      "  [0.03633548 0.40304286 0.96312154]]\n",
      "\n",
      " [[0.50007201 0.10172871 0.88787317]\n",
      "  [0.13238299 0.21419686 0.70262965]\n",
      "  [0.36037537 0.66583037 0.12597469]]]\n"
     ]
    }
   ],
   "source": [
    "#Task condition 1.3.3\n",
    "#Создать массив 3x3x3 со случайными значениями.\n",
    "\n",
    "#solution\n",
    "import numpy as np\n",
    "print(np.random.random((3, 3, 3)))"
   ]
  },
  {
   "cell_type": "code",
   "execution_count": 1,
   "id": "b9b1669d",
   "metadata": {},
   "outputs": [
    {
     "name": "stdout",
     "output_type": "stream",
     "text": [
      "10\n",
      "10\n",
      "[[1 1 1 1 1 1 1 1 1 1]\n",
      " [1 0 0 0 0 0 0 0 0 1]\n",
      " [1 0 0 0 0 0 0 0 0 1]\n",
      " [1 0 0 0 0 0 0 0 0 1]\n",
      " [1 0 0 0 0 0 0 0 0 1]\n",
      " [1 0 0 0 0 0 0 0 0 1]\n",
      " [1 0 0 0 0 0 0 0 0 1]\n",
      " [1 0 0 0 0 0 0 0 0 1]\n",
      " [1 0 0 0 0 0 0 0 0 1]\n",
      " [1 1 1 1 1 1 1 1 1 1]]\n"
     ]
    }
   ],
   "source": [
    "#Task condition 1.3.4\n",
    "#Создать матрицу с 0 внутри, и 1 на границах.\n",
    "\n",
    "#solution\n",
    "import numpy as np\n",
    "a = np.zeros((int(input()), int(input())), 'int')\n",
    "a[0] = np.ones(len(a[0]))\n",
    "a[len(a) - 1] = np.ones(len(a[0]))\n",
    "for i in range(len(a)):\n",
    "    a[i][0] = 1\n",
    "    a[i][len(a[i]) - 1] = 1\n",
    "print(a)"
   ]
  },
  {
   "cell_type": "code",
   "execution_count": 15,
   "id": "fea238de",
   "metadata": {},
   "outputs": [
    {
     "name": "stdout",
     "output_type": "stream",
     "text": [
      "5\n",
      "[0.7792001380915395, 0.32863867296954397, 0.3037519259611956, 0.23135843351126995, 0.16104188685594234]\n"
     ]
    }
   ],
   "source": [
    "#Task condition 1.3.5\n",
    "#Создайте массив и отсортируйте его по убыванию.\n",
    "\n",
    "#solution\n",
    "import numpy as np\n",
    "a = (np.random.random((int(input()))))\n",
    "print(sorted(a, reverse=True))"
   ]
  },
  {
   "cell_type": "code",
   "execution_count": 25,
   "id": "fa861721",
   "metadata": {},
   "outputs": [
    {
     "name": "stdout",
     "output_type": "stream",
     "text": [
      "2\n",
      "2\n",
      "2\n",
      "2\n",
      "stop\n",
      "(2, 2, 2, 2)\n",
      "16\n",
      "4\n"
     ]
    }
   ],
   "source": [
    "##### Task condition 1.3.6\n",
    "#Создайте матрицу, выведите ее форму, размер и размерность.\n",
    "\n",
    "#solution\n",
    "import numpy as np\n",
    "s = []\n",
    "while True:\n",
    "    i = input()\n",
    "    if i != 'stop': s.append(int(i))\n",
    "    else: break\n",
    "a = np.sort(np.random.random((s)))\n",
    "#форма\n",
    "print(a.shape)\n",
    "#размер\n",
    "print(a.size)\n",
    "#размерность\n",
    "print(a.ndim)"
   ]
  },
  {
   "cell_type": "code",
   "execution_count": 27,
   "id": "d898a27e",
   "metadata": {},
   "outputs": [
    {
     "name": "stdout",
     "output_type": "stream",
     "text": [
      "\u001b[4m\u001b[31mВведите координаты точек. Для перехода к следущей точке введите \"next\". Для завершения введите \"stop\"\u001b[0m\n",
      "1\n",
      "0\n",
      "0\n",
      "next\n",
      "0\n",
      "1\n",
      "0\n",
      "stop\n",
      "\u001b[4m\u001b[31mВыберите порядковые номера двух точек, между которыми нужно посчитать евклидово расстояние: от 1 до 2.\u001b[0m\n",
      "1\n",
      "2\n",
      "1.4142135623730951\n"
     ]
    }
   ],
   "source": [
    "# Task condition 2.3.1\n",
    "#Найдите евклидово расстояние между двумя Series (точками) a и b, не используя встроенную формулу.\n",
    "\n",
    "\n",
    "#solution\n",
    "import pandas as pd\n",
    "import numpy as np\n",
    "from termcolor import colored, cprint\n",
    "print(colored('Введите координаты точек. Для перехода к следущей точке введите \"next\". Для завершения введите \"stop\"', 'red', attrs=['underline']))\n",
    "coordinates = []\n",
    "l = []\n",
    "while True:\n",
    "    i = input()\n",
    "    if i == 'stop': \n",
    "        coordinates.append(l)\n",
    "        break\n",
    "    elif i == 'next': \n",
    "        coordinates.append(l)\n",
    "        l = []\n",
    "    else:\n",
    "        l.append(int(i))\n",
    "print(colored('Выберите порядковые номера двух точек, между которыми нужно посчитать евклидово расстояние: от 1 до ' + str(len(coordinates)) + '.', 'red', attrs=['underline']))\n",
    "x = pd.Series(coordinates[int(input()) - 1])\n",
    "y = pd.Series(coordinates[int(input()) - 1])\n",
    "dist = np.sqrt(np.sum([(a - b)*(a - b) for a, b in zip(x, y)]))  \n",
    "print(dist)\n"
   ]
  },
  {
   "cell_type": "code",
   "execution_count": 8,
   "id": "3d13768f",
   "metadata": {},
   "outputs": [
    {
     "name": "stdout",
     "output_type": "stream",
     "text": [
      "       V1            V2        V3         V4  V5    V6   V7   V8         V9  \\\n",
      "0      58    management   married   tertiary  no  2143  yes   no    unknown   \n",
      "1      44    technician    single  secondary  no    29  yes   no    unknown   \n",
      "2      33  entrepreneur   married  secondary  no     2  yes  yes    unknown   \n",
      "3      47   blue-collar   married    unknown  no  1506  yes   no    unknown   \n",
      "4      33       unknown    single    unknown  no     1   no   no    unknown   \n",
      "...    ..           ...       ...        ...  ..   ...  ...  ...        ...   \n",
      "45206  51    technician   married   tertiary  no   825   no   no   cellular   \n",
      "45207  71       retired  divorced    primary  no  1729   no   no   cellular   \n",
      "45208  72       retired   married  secondary  no  5715   no   no   cellular   \n",
      "45209  57   blue-collar   married  secondary  no   668   no   no  telephone   \n",
      "45210  37  entrepreneur   married  secondary  no  2971   no   no   cellular   \n",
      "\n",
      "       V10  V11   V12  V13  V14  V15      V16  Class  \n",
      "0        5  may   261    1   -1    0  unknown      1  \n",
      "1        5  may   151    1   -1    0  unknown      1  \n",
      "2        5  may    76    1   -1    0  unknown      1  \n",
      "3        5  may    92    1   -1    0  unknown      1  \n",
      "4        5  may   198    1   -1    0  unknown      1  \n",
      "...    ...  ...   ...  ...  ...  ...      ...    ...  \n",
      "45206   17  nov   977    3   -1    0  unknown      2  \n",
      "45207   17  nov   456    2   -1    0  unknown      2  \n",
      "45208   17  nov  1127    5  184    3  success      2  \n",
      "45209   17  nov   508    4   -1    0  unknown      1  \n",
      "45210   17  nov   361    2  188   11    other      1  \n",
      "\n",
      "[45211 rows x 17 columns]\n"
     ]
    }
   ],
   "source": [
    "#Task condition 2.3.2\n",
    "#Найдите в Интернете ссылку на любой csv файл и сформируйте из него фрейм данных.\n",
    "\n",
    "#solution\n",
    "import pandas as pd\n",
    "data = pd.read_csv(r'C:\\Users\\Reens\\Desktop\\jupiter\\bank_marketing.csv')\n",
    "df = pd.DataFrame(data)\n",
    "print(df)"
   ]
  },
  {
   "cell_type": "code",
   "execution_count": 23,
   "id": "c931bb07",
   "metadata": {},
   "outputs": [
    {
     "name": "stdout",
     "output_type": "stream",
     "text": [
      "\u001b[4m\u001b[31mВыберите порядковый номер строки, до которой хотите прочитать таблицу (включительно): от 1 до 45211.\u001b[0m\n",
      "5\n",
      "   V1            V2       V3         V4  V5    V6   V7   V8       V9  V10  \\\n",
      "0  58    management  married   tertiary  no  2143  yes   no  unknown    5   \n",
      "1  44    technician   single  secondary  no    29  yes   no  unknown    5   \n",
      "2  33  entrepreneur  married  secondary  no     2  yes  yes  unknown    5   \n",
      "3  47   blue-collar  married    unknown  no  1506  yes   no  unknown    5   \n",
      "4  33       unknown   single    unknown  no     1   no   no  unknown    5   \n",
      "\n",
      "   V11  V12  V13  V14  V15      V16  Class  \n",
      "0  may  261    1   -1    0  unknown      1  \n",
      "1  may  151    1   -1    0  unknown      1  \n",
      "2  may   76    1   -1    0  unknown      1  \n",
      "3  may   92    1   -1    0  unknown      1  \n",
      "4  may  198    1   -1    0  unknown      1  \n",
      "\u001b[4m\u001b[31mВыберите порядковый номер строки, c которой хотите прочитать таблицу (включительно): от 1 до 45211.\u001b[0m\n",
      "45207\n",
      "       V1            V2        V3         V4  V5    V6  V7  V8         V9  \\\n",
      "45207  71       retired  divorced    primary  no  1729  no  no   cellular   \n",
      "45208  72       retired   married  secondary  no  5715  no  no   cellular   \n",
      "45209  57   blue-collar   married  secondary  no   668  no  no  telephone   \n",
      "45210  37  entrepreneur   married  secondary  no  2971  no  no   cellular   \n",
      "\n",
      "       V10  V11   V12  V13  V14  V15      V16  Class  \n",
      "45207   17  nov   456    2   -1    0  unknown      2  \n",
      "45208   17  nov  1127    5  184    3  success      2  \n",
      "45209   17  nov   508    4   -1    0  unknown      1  \n",
      "45210   17  nov   361    2  188   11    other      1  \n",
      "\u001b[4m\u001b[31mВыберите порядковые номера строк, которые будут являться границами желаемого среза (включительно): от 1 до 45211.\u001b[0m\n",
      "1\n",
      "5\n",
      "   V1            V2       V3         V4  V5    V6   V7   V8       V9  V10  \\\n",
      "1  44    technician   single  secondary  no    29  yes   no  unknown    5   \n",
      "2  33  entrepreneur  married  secondary  no     2  yes  yes  unknown    5   \n",
      "3  47   blue-collar  married    unknown  no  1506  yes   no  unknown    5   \n",
      "4  33       unknown   single    unknown  no     1   no   no  unknown    5   \n",
      "\n",
      "   V11  V12  V13  V14  V15      V16  Class  \n",
      "1  may  151    1   -1    0  unknown      1  \n",
      "2  may   76    1   -1    0  unknown      1  \n",
      "3  may   92    1   -1    0  unknown      1  \n",
      "4  may  198    1   -1    0  unknown      1   \n",
      "\n",
      "(45211, 17)\n",
      "                 V1             V6           V10           V12           V13  \\\n",
      "count  45211.000000   45211.000000  45211.000000  45211.000000  45211.000000   \n",
      "mean      40.936210    1362.272058     15.806419    258.163080      2.763841   \n",
      "std       10.618762    3044.765829      8.322476    257.527812      3.098021   \n",
      "min       18.000000   -8019.000000      1.000000      0.000000      1.000000   \n",
      "25%       33.000000      72.000000      8.000000    103.000000      1.000000   \n",
      "50%       39.000000     448.000000     16.000000    180.000000      2.000000   \n",
      "75%       48.000000    1428.000000     21.000000    319.000000      3.000000   \n",
      "max       95.000000  102127.000000     31.000000   4918.000000     63.000000   \n",
      "\n",
      "                V14           V15         Class  \n",
      "count  45211.000000  45211.000000  45211.000000  \n",
      "mean      40.197828      0.580323      1.116985  \n",
      "std      100.128746      2.303441      0.321406  \n",
      "min       -1.000000      0.000000      1.000000  \n",
      "25%       -1.000000      0.000000      1.000000  \n",
      "50%       -1.000000      0.000000      1.000000  \n",
      "75%       -1.000000      0.000000      1.000000  \n",
      "max      871.000000    275.000000      2.000000  \n",
      "       V1           V2      V3         V4  V5    V6   V7   V8        V9  V10  \\\n",
      "1      44   technician  single  secondary  no    29  yes   no   unknown    5   \n",
      "4      33      unknown  single    unknown  no     1   no   no   unknown    5   \n",
      "6      28   management  single   tertiary  no   447  yes  yes   unknown    5   \n",
      "9      43   technician  single  secondary  no   593  yes   no   unknown    5   \n",
      "11     29       admin.  single  secondary  no   390  yes   no   unknown    5   \n",
      "...    ..          ...     ...        ...  ..   ...  ...  ...       ...  ...   \n",
      "45197  36   management  single  secondary  no  1511  yes   no  cellular   16   \n",
      "45199  34  blue-collar  single  secondary  no  1475  yes   no  cellular   16   \n",
      "45202  34       admin.  single  secondary  no   557   no   no  cellular   17   \n",
      "45203  23      student  single   tertiary  no   113   no   no  cellular   17   \n",
      "45205  25   technician  single  secondary  no   505   no  yes  cellular   17   \n",
      "\n",
      "       V11   V12  V13  V14  V15      V16  Class  \n",
      "1      may   151    1   -1    0  unknown      1  \n",
      "4      may   198    1   -1    0  unknown      1  \n",
      "6      may   217    1   -1    0  unknown      1  \n",
      "9      may    55    1   -1    0  unknown      1  \n",
      "11     may   137    1   -1    0  unknown      1  \n",
      "...    ...   ...  ...  ...  ...      ...    ...  \n",
      "45197  nov   270    1   -1    0  unknown      2  \n",
      "45199  nov  1166    3  530   12    other      1  \n",
      "45202  nov   224    1   -1    0  unknown      2  \n",
      "45203  nov   266    1   -1    0  unknown      2  \n",
      "45205  nov   386    2   -1    0  unknown      2  \n",
      "\n",
      "[12790 rows x 17 columns]\n"
     ]
    }
   ],
   "source": [
    "#Task condition 2.3.2\n",
    "#Проделайте с получившемся из предыдущего задания фреймом данных те же действия, что и в примерах 2.2.5-2.2.7.\n",
    "\n",
    "#solution\n",
    "import pandas as pd\n",
    "data = pd.read_csv(r'C:\\Users\\Reens\\Desktop\\jupiter\\bank_marketing.csv')\n",
    "print(colored('Выберите порядковый номер строки, до которой хотите прочитать таблицу (включительно): от 1 до ' + str(len(data)) + '.', 'red', attrs=['underline']))\n",
    "print(data.head(int(input())))\n",
    "print(colored('Выберите порядковый номер строки, c которой хотите прочитать таблицу (включительно): от 1 до ' + str(len(data)) + '.', 'red', attrs=['underline']))\n",
    "print(data.tail(len(data) - int(input())))\n",
    "print(colored('Выберите порядковые номера строк, которые будут являться границами желаемого среза (включительно): от 1 до ' + str(len(data)) + '.', 'red', attrs=['underline']))\n",
    "print(data.iloc[int(input()):int(input())], '\\n')\n",
    "print(data.shape)\n",
    "print(data.describe())\n",
    "print(data[data['V3'] == 'single'])"
   ]
  },
  {
   "cell_type": "code",
   "execution_count": 32,
   "id": "5a572ef5",
   "metadata": {},
   "outputs": [
    {
     "name": "stdout",
     "output_type": "stream",
     "text": [
      "     sepal_length_cm  sepal_width_cm  petal_length_cm  petal_width_cm  \\\n",
      "0           0.222222        1.032057              1.4             0.2   \n",
      "1           0.166667       -0.124958              1.4             0.2   \n",
      "2           0.111111        0.337848              1.3             0.2   \n",
      "3           0.083333        0.106445              1.5             0.2   \n",
      "4           0.194444        1.263460              1.4             0.2   \n",
      "..               ...             ...              ...             ...   \n",
      "145         0.666667       -0.124958              5.2             2.3   \n",
      "146         0.555556       -1.281972              5.0             1.9   \n",
      "147         0.611111       -0.124958              5.2             2.0   \n",
      "148         0.527778        0.800654              5.4             2.3   \n",
      "149         0.444444       -0.124958              5.1             1.8   \n",
      "\n",
      "       species  \n",
      "0       setosa  \n",
      "1       setosa  \n",
      "2       setosa  \n",
      "3       setosa  \n",
      "4       setosa  \n",
      "..         ...  \n",
      "145  virginica  \n",
      "146  virginica  \n",
      "147  virginica  \n",
      "148  virginica  \n",
      "149  virginica  \n",
      "\n",
      "[150 rows x 5 columns]\n"
     ]
    }
   ],
   "source": [
    "#Task condition 3.3.2\n",
    "#Загрузить фрейм данных по ссылке: https://raw.githubusercontent.com/akmand/datasets/master/iris.csv.\n",
    "#Необходимо выполнить нормализацию первого числового признака (sepal_length_cm) с использованием минимаксного преобразования, а второго (sepal_width_cm) с задействованием z-масштабирования.\n",
    "\n",
    "#solution\n",
    "import pandas as pd\n",
    "import numpy as np\n",
    "from sklearn import svm \n",
    "from sklearn import datasets\n",
    "from sklearn import preprocessing\n",
    "from sklearn.preprocessing import StandardScaler\n",
    "data = pd.read_csv(r'C:\\Users\\Reens\\Desktop\\jupiter\\raw.githubusercontent.com_akmand_datasets_master_iris.csv')\n",
    "scaler = preprocessing.MinMaxScaler()\n",
    "data[['sepal_length_cm']] = scaler.fit_transform(data[['sepal_length_cm']])\n",
    "scaler = StandardScaler()\n",
    "data[['sepal_width_cm']] = scaler.fit_transform(data[['sepal_width_cm']])\n",
    "print(data)"
   ]
  }
 ],
 "metadata": {
  "kernelspec": {
   "display_name": "Python 3 (ipykernel)",
   "language": "python",
   "name": "python3"
  },
  "language_info": {
   "codemirror_mode": {
    "name": "ipython",
    "version": 3
   },
   "file_extension": ".py",
   "mimetype": "text/x-python",
   "name": "python",
   "nbconvert_exporter": "python",
   "pygments_lexer": "ipython3",
   "version": "3.11.4"
  }
 },
 "nbformat": 4,
 "nbformat_minor": 5
}
